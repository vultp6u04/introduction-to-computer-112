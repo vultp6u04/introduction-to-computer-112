{
  "nbformat": 4,
  "nbformat_minor": 0,
  "metadata": {
    "colab": {
      "provenance": [],
      "name": "untitled9.ipy蕭辰諺",
      "authorship_tag": "ABX9TyPz+861l1IFoDz9txxhV2cs",
      "include_colab_link": true
    },
    "kernelspec": {
      "name": "python3",
      "display_name": "Python 3"
    },
    "language_info": {
      "name": "python"
    }
  },
  "cells": [
    {
      "cell_type": "markdown",
      "metadata": {
        "id": "view-in-github",
        "colab_type": "text"
      },
      "source": [
        "<a href=\"https://colab.research.google.com/github/vultp6u04/introduction-to-computer-112/blob/main/untitled9_ipy%E8%95%AD%E8%BE%B0%E8%AB%BA.ipynb\" target=\"_parent\"><img src=\"https://colab.research.google.com/assets/colab-badge.svg\" alt=\"Open In Colab\"/></a>"
      ]
    },
    {
      "cell_type": "code",
      "execution_count": null,
      "metadata": {
        "colab": {
          "base_uri": "https://localhost:8080/"
        },
        "id": "cuKt86anZRgD",
        "outputId": "2b634023-f04a-41e4-c703-bba1b3065c30"
      },
      "outputs": [
        {
          "output_type": "stream",
          "name": "stdout",
          "text": [
            "0501\n"
          ]
        }
      ],
      "source": [
        "print(\"0501\")"
      ]
    },
    {
      "cell_type": "code",
      "source": [
        "1 1"
      ],
      "metadata": {
        "id": "kfOqpFBXZfJd"
      },
      "execution_count": null,
      "outputs": []
    },
    {
      "cell_type": "code",
      "source": [
        "1......1"
      ],
      "metadata": {
        "id": "QI_3tlNAZhZq"
      },
      "execution_count": null,
      "outputs": []
    },
    {
      "cell_type": "code",
      "source": [
        "score=int(input(\"請輸入分數\"))\n",
        "if(score>=60):\n",
        "    print(\"及格\")"
      ],
      "metadata": {
        "colab": {
          "base_uri": "https://localhost:8080/"
        },
        "id": "edCUgHLnZhk7",
        "outputId": "8d23dde6-447b-4e49-92c8-fc08ad1fa900"
      },
      "execution_count": null,
      "outputs": [
        {
          "output_type": "stream",
          "name": "stdout",
          "text": [
            "請輸入分數81\n",
            "及格\n"
          ]
        }
      ]
    },
    {
      "cell_type": "code",
      "source": [
        "數學=50\n",
        "英文=70\n",
        "if 數學>英文:\n",
        "    print(\"數學比較高\")\n",
        "else:\n",
        "    print(\"英文比較高\")"
      ],
      "metadata": {
        "colab": {
          "base_uri": "https://localhost:8080/"
        },
        "id": "Eh1A3x-pZhwB",
        "outputId": "8bc3f90e-bf8b-4a77-fe07-db4dbe3bdf69"
      },
      "execution_count": null,
      "outputs": [
        {
          "output_type": "stream",
          "name": "stdout",
          "text": [
            "英文比較高\n"
          ]
        }
      ]
    },
    {
      "cell_type": "code",
      "source": [
        "score = int(input(\"請輸入分數: \"))\n",
        "\n",
        "if score == 1234:\n",
        "    print(\"歡迎光臨\")\n"
      ],
      "metadata": {
        "colab": {
          "base_uri": "https://localhost:8080/"
        },
        "id": "tej9oC39Zh6S",
        "outputId": "16a61a4a-38c4-478b-e919-36ddfecadf74"
      },
      "execution_count": null,
      "outputs": [
        {
          "output_type": "stream",
          "name": "stdout",
          "text": [
            "請輸入分數: 1234\n",
            "歡迎光臨\n"
          ]
        }
      ]
    },
    {
      "cell_type": "code",
      "source": [
        "score = int(input(\"請輸入分數: \"))\n",
        "\n",
        "if score == 1234:\n",
        "    print(\"歡迎光臨\")\n",
        "else:\n",
        "    print(\"密碼錯誤\")"
      ],
      "metadata": {
        "colab": {
          "base_uri": "https://localhost:8080/"
        },
        "id": "lWW1dtUJZiE6",
        "outputId": "3641b764-9a83-4e8f-fbed-461ffa94c3c2"
      },
      "execution_count": null,
      "outputs": [
        {
          "output_type": "stream",
          "name": "stdout",
          "text": [
            "請輸入分數: 1111\n",
            "密碼錯誤\n"
          ]
        }
      ]
    }
  ]
}